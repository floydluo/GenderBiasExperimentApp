{
 "cells": [
  {
   "cell_type": "code",
   "execution_count": 3,
   "id": "a04f0589",
   "metadata": {
    "ExecuteTime": {
     "end_time": "2021-07-18T21:48:29.325484Z",
     "start_time": "2021-07-18T21:48:29.321970Z"
    }
   },
   "outputs": [],
   "source": [
    "import pandas as pd\n",
    "\n",
    "import sqlite3\n",
    "import pandas as pd\n",
    "# Create your connection.\n"
   ]
  },
  {
   "cell_type": "code",
   "execution_count": 4,
   "id": "7bd5c83a",
   "metadata": {
    "ExecuteTime": {
     "end_time": "2021-07-18T21:48:29.584743Z",
     "start_time": "2021-07-18T21:48:29.464314Z"
    }
   },
   "outputs": [],
   "source": [
    "cnx = sqlite3.connect('app.db')\n",
    "\n",
    "df = pd.read_sql_query(\"SELECT * FROM Questions\", cnx)"
   ]
  },
  {
   "cell_type": "code",
   "execution_count": 5,
   "id": "6ba3416d",
   "metadata": {
    "ExecuteTime": {
     "end_time": "2021-07-18T21:48:33.529578Z",
     "start_time": "2021-07-18T21:48:33.500795Z"
    }
   },
   "outputs": [
    {
     "data": {
      "text/html": [
       "<div>\n",
       "<style scoped>\n",
       "    .dataframe tbody tr th:only-of-type {\n",
       "        vertical-align: middle;\n",
       "    }\n",
       "\n",
       "    .dataframe tbody tr th {\n",
       "        vertical-align: top;\n",
       "    }\n",
       "\n",
       "    .dataframe thead th {\n",
       "        text-align: right;\n",
       "    }\n",
       "</style>\n",
       "<table border=\"1\" class=\"dataframe\">\n",
       "  <thead>\n",
       "    <tr style=\"text-align: right;\">\n",
       "      <th></th>\n",
       "      <th>q_id</th>\n",
       "      <th>ques</th>\n",
       "      <th>a</th>\n",
       "      <th>b</th>\n",
       "      <th>c</th>\n",
       "      <th>d</th>\n",
       "      <th>ans</th>\n",
       "    </tr>\n",
       "  </thead>\n",
       "  <tbody>\n",
       "    <tr>\n",
       "      <th>0</th>\n",
       "      <td>1</td>\n",
       "      <td>Who is the first Prime Minister of India?</td>\n",
       "      <td>Indira Gandhi</td>\n",
       "      <td>Jawaharlal Nehru</td>\n",
       "      <td>Narendra Modi</td>\n",
       "      <td>Rajiv Gandhi</td>\n",
       "      <td>Jawaharlal Nehru</td>\n",
       "    </tr>\n",
       "    <tr>\n",
       "      <th>1</th>\n",
       "      <td>2</td>\n",
       "      <td>The first Women External Affair Minister of In...</td>\n",
       "      <td>Sushma Swaraj</td>\n",
       "      <td>Jayalalitha</td>\n",
       "      <td>Pratibha Patil</td>\n",
       "      <td>Indira Gandhi</td>\n",
       "      <td>Indira Gandhi</td>\n",
       "    </tr>\n",
       "    <tr>\n",
       "      <th>2</th>\n",
       "      <td>3</td>\n",
       "      <td>Who among the following known as Pocket Hercules?</td>\n",
       "      <td>Mike Tyson</td>\n",
       "      <td>Manohar Aich</td>\n",
       "      <td>Manotosh Roy</td>\n",
       "      <td>Muhammad Ali</td>\n",
       "      <td>Manohar Aich</td>\n",
       "    </tr>\n",
       "  </tbody>\n",
       "</table>\n",
       "</div>"
      ],
      "text/plain": [
       "   q_id                                               ques              a  \\\n",
       "0     1          Who is the first Prime Minister of India?  Indira Gandhi   \n",
       "1     2  The first Women External Affair Minister of In...  Sushma Swaraj   \n",
       "2     3  Who among the following known as Pocket Hercules?     Mike Tyson   \n",
       "\n",
       "                  b               c              d               ans  \n",
       "0  Jawaharlal Nehru   Narendra Modi   Rajiv Gandhi  Jawaharlal Nehru  \n",
       "1       Jayalalitha  Pratibha Patil  Indira Gandhi     Indira Gandhi  \n",
       "2      Manohar Aich    Manotosh Roy   Muhammad Ali      Manohar Aich  "
      ]
     },
     "execution_count": 5,
     "metadata": {},
     "output_type": "execute_result"
    }
   ],
   "source": [
    "df"
   ]
  },
  {
   "cell_type": "code",
   "execution_count": null,
   "id": "bd93c3c8",
   "metadata": {},
   "outputs": [],
   "source": []
  }
 ],
 "metadata": {
  "kernelspec": {
   "display_name": "Python 3 (ipykernel)",
   "language": "python",
   "name": "python3"
  },
  "language_info": {
   "codemirror_mode": {
    "name": "ipython",
    "version": 3
   },
   "file_extension": ".py",
   "mimetype": "text/x-python",
   "name": "python",
   "nbconvert_exporter": "python",
   "pygments_lexer": "ipython3",
   "version": "3.9.6"
  },
  "toc": {
   "base_numbering": 1,
   "nav_menu": {},
   "number_sections": true,
   "sideBar": true,
   "skip_h1_title": false,
   "title_cell": "Table of Contents",
   "title_sidebar": "Contents",
   "toc_cell": false,
   "toc_position": {},
   "toc_section_display": true,
   "toc_window_display": false
  }
 },
 "nbformat": 4,
 "nbformat_minor": 5
}
